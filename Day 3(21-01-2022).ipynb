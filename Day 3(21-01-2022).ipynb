{
 "cells": [
  {
   "cell_type": "markdown",
   "metadata": {},
   "source": [
    "# Control Flow statements:\n"
   ]
  },
  {
   "cell_type": "code",
   "execution_count": 5,
   "metadata": {},
   "outputs": [
    {
     "name": "stdout",
     "output_type": "stream",
     "text": [
      "Enter a number :0\n",
      "Zero\n"
     ]
    }
   ],
   "source": [
    "# Check Given number is positive number ,negative number or zero\n",
    "n = int(input(\"Enter a number :\"))\n",
    "if n>0:\n",
    "    print(\"Positive Number\")\n",
    "elif n<0:\n",
    "    print(\"negative Number\")\n",
    "elif n ==0:\n",
    "    print(\"Zero\")"
   ]
  },
  {
   "cell_type": "code",
   "execution_count": 1,
   "metadata": {},
   "outputs": [
    {
     "name": "stdout",
     "output_type": "stream",
     "text": [
      "4\n",
      "8\n",
      "11\n",
      "11 is large number\n"
     ]
    }
   ],
   "source": [
    "# Find large number from given 3 inputs\n",
    "a =int(input())\n",
    "b = int(input())\n",
    "c = int(input())\n",
    "if a>b and a>c:\n",
    "    print(a,\"is large number\")\n",
    "elif b>a and b>c:\n",
    "    print(b,\"is large number\")\n",
    "else:\n",
    "    print(c,\"is large number\")"
   ]
  },
  {
   "cell_type": "code",
   "execution_count": 3,
   "metadata": {},
   "outputs": [
    {
     "name": "stdout",
     "output_type": "stream",
     "text": [
      "Enter a grade :24\n",
      "F grade\n"
     ]
    }
   ],
   "source": [
    "# find grading\n",
    "# Above 80 - A\n",
    "# 60 to 80 - B\n",
    "# 50 to 60 - C\n",
    "# 45 to 50 - D\n",
    "# 25 to 45 - E\n",
    "# below 25 - F\n",
    "grade = int(input(\"Enter a grade :\"))\n",
    "if grade>80:\n",
    "    print(\"A Grade\")\n",
    "elif grade >=60 and grade <=80:\n",
    "    print(\"B Grade\")\n",
    "elif grade >= 50 and grade <60:\n",
    "    print(\"C grade\")\n",
    "elif grade >=45 and grade <50:\n",
    "    print(\"D grade\")\n",
    "elif grade >= 25 and grade <45:\n",
    "    print(\"E Grade\")\n",
    "else:\n",
    "    print(\"F grade\")"
   ]
  },
  {
   "cell_type": "markdown",
   "metadata": {},
   "source": [
    "# Looping Statements:\n",
    "- While Loop statement:\n",
    "\n",
    "   - it allow a programmer to repeat a single statement or a gruop of statement for true condition\n",
    "   \n",
    "- For Loop Statement:\n",
    "   - It Allows a Programmer to execute a sequence of statements several times."
   ]
  },
  {
   "cell_type": "code",
   "execution_count": null,
   "metadata": {},
   "outputs": [],
   "source": [
    "# While loop Statement\n",
    "# Syntax\n",
    "while Boolean_condition:\n",
    "    statement\n",
    "    increment/Decrement"
   ]
  },
  {
   "cell_type": "code",
   "execution_count": 4,
   "metadata": {},
   "outputs": [
    {
     "name": "stdout",
     "output_type": "stream",
     "text": [
      "Python\n",
      "Python\n",
      "Python\n",
      "Python\n",
      "Python\n"
     ]
    }
   ],
   "source": [
    "# Print \"Python\" 5 times\n",
    "print(\"Python\")\n",
    "print(\"Python\")\n",
    "print(\"Python\")\n",
    "print(\"Python\")\n",
    "print(\"Python\")"
   ]
  },
  {
   "cell_type": "code",
   "execution_count": 7,
   "metadata": {},
   "outputs": [
    {
     "name": "stdout",
     "output_type": "stream",
     "text": [
      "Python\n",
      "Python\n",
      "Python\n",
      "Python\n",
      "Python\n"
     ]
    }
   ],
   "source": [
    "# Print \"Python\" 5 times\n",
    "i = 0\n",
    "while i < 5:\n",
    "    print(\"Python\")\n",
    "    i+=1"
   ]
  },
  {
   "cell_type": "code",
   "execution_count": 8,
   "metadata": {},
   "outputs": [
    {
     "name": "stdout",
     "output_type": "stream",
     "text": [
      "python\n",
      "python\n",
      "python\n",
      "python\n",
      "python\n"
     ]
    }
   ],
   "source": [
    "i = 1\n",
    "while i <= 5:\n",
    "    print(\"python\")\n",
    "    i+=1"
   ]
  },
  {
   "cell_type": "code",
   "execution_count": 10,
   "metadata": {},
   "outputs": [
    {
     "name": "stdout",
     "output_type": "stream",
     "text": [
      "1 2 3 4 5 "
     ]
    }
   ],
   "source": [
    "# Print 1 to 5 number\n",
    "i = 1\n",
    "while i<=5:\n",
    "    print(i,end = \" \")\n",
    "    i+=1"
   ]
  },
  {
   "cell_type": "code",
   "execution_count": 11,
   "metadata": {},
   "outputs": [
    {
     "name": "stdout",
     "output_type": "stream",
     "text": [
      "1 2 3 4 5 6 7 8 9 10 "
     ]
    }
   ],
   "source": [
    "# Print 1 to 10 number\n",
    "i = 1\n",
    "while i<=10:\n",
    "    print(i,end= \" \")\n",
    "    i+=1"
   ]
  },
  {
   "cell_type": "code",
   "execution_count": 12,
   "metadata": {},
   "outputs": [
    {
     "name": "stdout",
     "output_type": "stream",
     "text": [
      "2 4 6 8 10 "
     ]
    }
   ],
   "source": [
    "# Print even number from 1 to 10\n",
    "i = 1\n",
    "while i<= 10:\n",
    "    if i %2 ==0:\n",
    "        print(i,end= \" \")\n",
    "    i+=1"
   ]
  },
  {
   "cell_type": "code",
   "execution_count": null,
   "metadata": {},
   "outputs": [],
   "source": [
    "# Print the output as factors\n",
    "# 6 - 1 2 3 6\n",
    "# 12 - 1 2 3 4 6 12\n",
    "---------------------\n",
    "# input- 123\n",
    "# output - 321"
   ]
  }
 ],
 "metadata": {
  "kernelspec": {
   "display_name": "Python 3",
   "language": "python",
   "name": "python3"
  },
  "language_info": {
   "codemirror_mode": {
    "name": "ipython",
    "version": 3
   },
   "file_extension": ".py",
   "mimetype": "text/x-python",
   "name": "python",
   "nbconvert_exporter": "python",
   "pygments_lexer": "ipython3",
   "version": "3.8.5"
  }
 },
 "nbformat": 4,
 "nbformat_minor": 4
}
