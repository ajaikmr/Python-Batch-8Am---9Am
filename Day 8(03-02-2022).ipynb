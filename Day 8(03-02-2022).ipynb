{
 "cells": [
  {
   "cell_type": "code",
   "execution_count": 2,
   "metadata": {},
   "outputs": [
    {
     "data": {
      "text/plain": [
       "'No'"
      ]
     },
     "execution_count": 2,
     "metadata": {},
     "output_type": "execute_result"
    }
   ],
   "source": [
    "# Palindrome or not\n",
    "# 123 - 321 - no\n",
    "# 121 - 121 - yes\n",
    "def palindrome(n):\n",
    "    r = 0\n",
    "    buffer = n\n",
    "    while n!= 0:\n",
    "        a = n%10\n",
    "        r = r*10+a\n",
    "        n = n//10\n",
    "    if buffer ==r:\n",
    "        return \"Yes\"\n",
    "    else:\n",
    "        return \"No\"\n",
    "palindrome(123)"
   ]
  },
  {
   "cell_type": "code",
   "execution_count": 3,
   "metadata": {},
   "outputs": [
    {
     "data": {
      "text/plain": [
       "'Yes'"
      ]
     },
     "execution_count": 3,
     "metadata": {},
     "output_type": "execute_result"
    }
   ],
   "source": [
    "palindrome(121)"
   ]
  },
  {
   "cell_type": "code",
   "execution_count": 4,
   "metadata": {},
   "outputs": [
    {
     "name": "stdout",
     "output_type": "stream",
     "text": [
      "1 2 3 4 5 6 7 8 9 10 11 12 13 14 15 16 17 18 19 20 21 22 23 24 25 26 27 28 29 30 31 32 33 34 35 36 37 38 39 40 41 42 43 44 45 46 47 48 49 50 "
     ]
    }
   ],
   "source": [
    "# print N Natural number using for loop with functional Programming\n",
    "def natural(n):\n",
    "    for i in range(1,n+1):\n",
    "        print(i,end = \" \")\n",
    "natural(50)"
   ]
  },
  {
   "cell_type": "code",
   "execution_count": null,
   "metadata": {},
   "outputs": [],
   "source": [
    "# Input: 1,10\n",
    "#output: 1 2 3 4 5 6 7 8 9 10"
   ]
  },
  {
   "cell_type": "markdown",
   "metadata": {},
   "source": [
    "# Contact Application:\n",
    "- Add Contacts\n",
    "- Search Contacts\n",
    "- Delete Contacts\n",
    "- Merge Contacts\n",
    "- Sort Contacts"
   ]
  },
  {
   "cell_type": "code",
   "execution_count": 5,
   "metadata": {},
   "outputs": [
    {
     "name": "stdout",
     "output_type": "stream",
     "text": [
      "Contact is added\n"
     ]
    }
   ],
   "source": [
    "# Add Contacts:\n",
    "contacts = { }\n",
    "def addcontacts(name,number):\n",
    "    if name not in contacts:\n",
    "        contacts[name] = number\n",
    "        print(\"Contact is added\")\n",
    "    else:\n",
    "        print(\"Contact Already Exist\")\n",
    "addcontacts(\"Ajay\",\"516455646\")\n",
    "        \n",
    "        "
   ]
  },
  {
   "cell_type": "code",
   "execution_count": 6,
   "metadata": {},
   "outputs": [
    {
     "data": {
      "text/plain": [
       "{'Ajay': '516455646'}"
      ]
     },
     "execution_count": 6,
     "metadata": {},
     "output_type": "execute_result"
    }
   ],
   "source": [
    "contacts"
   ]
  },
  {
   "cell_type": "code",
   "execution_count": 7,
   "metadata": {},
   "outputs": [
    {
     "name": "stdout",
     "output_type": "stream",
     "text": [
      "Contact Already Exist\n"
     ]
    }
   ],
   "source": [
    "addcontacts(\"Ajay\",\"516455646\")\n"
   ]
  },
  {
   "cell_type": "code",
   "execution_count": 8,
   "metadata": {},
   "outputs": [
    {
     "name": "stdout",
     "output_type": "stream",
     "text": [
      "Contact is added\n"
     ]
    }
   ],
   "source": [
    "addcontacts(\"Vijay\",\"516451541\")\n"
   ]
  },
  {
   "cell_type": "code",
   "execution_count": 9,
   "metadata": {},
   "outputs": [
    {
     "data": {
      "text/plain": [
       "{'Ajay': '516455646', 'Vijay': '516451541'}"
      ]
     },
     "execution_count": 9,
     "metadata": {},
     "output_type": "execute_result"
    }
   ],
   "source": [
    "contacts"
   ]
  },
  {
   "cell_type": "code",
   "execution_count": 10,
   "metadata": {},
   "outputs": [
    {
     "name": "stdout",
     "output_type": "stream",
     "text": [
      "Ajay : 516455646\n"
     ]
    }
   ],
   "source": [
    "# Search Contacts:\n",
    "def searchcontacts(name):\n",
    "    if name in contacts:\n",
    "        print(name, \":\",contacts[name])\n",
    "    else:\n",
    "        print(\"Contact not exist\")\n",
    "searchcontacts(\"Ajay\")"
   ]
  },
  {
   "cell_type": "code",
   "execution_count": 11,
   "metadata": {},
   "outputs": [
    {
     "name": "stdout",
     "output_type": "stream",
     "text": [
      "Vijay : 516451541\n"
     ]
    }
   ],
   "source": [
    "searchcontacts(\"Vijay\")"
   ]
  },
  {
   "cell_type": "code",
   "execution_count": 12,
   "metadata": {},
   "outputs": [
    {
     "name": "stdout",
     "output_type": "stream",
     "text": [
      "Contact not exist\n"
     ]
    }
   ],
   "source": [
    "searchcontacts(\"vijay\")"
   ]
  },
  {
   "cell_type": "code",
   "execution_count": 13,
   "metadata": {},
   "outputs": [
    {
     "name": "stdout",
     "output_type": "stream",
     "text": [
      "Contact is deleted\n"
     ]
    }
   ],
   "source": [
    "# Delete Contacts:\n",
    "def delete(name):\n",
    "    if name in contacts:\n",
    "        del contacts[name]\n",
    "        print(\"Contact is deleted\")\n",
    "    else:\n",
    "        print(\"Contacts not exist\")\n",
    "delete(\"Ajay\")"
   ]
  },
  {
   "cell_type": "code",
   "execution_count": 14,
   "metadata": {},
   "outputs": [
    {
     "data": {
      "text/plain": [
       "{'Vijay': '516451541'}"
      ]
     },
     "execution_count": 14,
     "metadata": {},
     "output_type": "execute_result"
    }
   ],
   "source": [
    "contacts"
   ]
  },
  {
   "cell_type": "code",
   "execution_count": 15,
   "metadata": {},
   "outputs": [
    {
     "name": "stdout",
     "output_type": "stream",
     "text": [
      "3 contacts are added\n"
     ]
    }
   ],
   "source": [
    "# meger contacts\n",
    "def merge(newcontacts):\n",
    "    contacts.update(newcontacts)\n",
    "    print(len(newcontacts.keys()),\"contacts are added\")\n",
    "newcontacts = {\"raj\":\"3549464\",'Pavani':'65654566','Ram':'54566464'}\n",
    "merge(newcontacts)"
   ]
  },
  {
   "cell_type": "code",
   "execution_count": 16,
   "metadata": {},
   "outputs": [
    {
     "data": {
      "text/plain": [
       "{'Vijay': '516451541',\n",
       " 'raj': '3549464',\n",
       " 'Pavani': '65654566',\n",
       " 'Ram': '54566464'}"
      ]
     },
     "execution_count": 16,
     "metadata": {},
     "output_type": "execute_result"
    }
   ],
   "source": [
    "contacts"
   ]
  },
  {
   "cell_type": "code",
   "execution_count": 22,
   "metadata": {},
   "outputs": [
    {
     "name": "stdout",
     "output_type": "stream",
     "text": [
      "key = Pavani - value = 65654566\n",
      "key = Ram - value = 54566464\n",
      "key = Vijay - value = 516451541\n",
      "key = raj - value = 3549464\n"
     ]
    }
   ],
   "source": [
    "# Sort contacts\n",
    "def sortcontacts(contacts):\n",
    "    for key in sorted(contacts.keys()):\n",
    "        print('key =',key,'-',\"value =\",contacts[key])\n",
    "sortcontacts(contacts)"
   ]
  },
  {
   "cell_type": "code",
   "execution_count": null,
   "metadata": {},
   "outputs": [],
   "source": [
    "co"
   ]
  }
 ],
 "metadata": {
  "kernelspec": {
   "display_name": "Python 3",
   "language": "python",
   "name": "python3"
  },
  "language_info": {
   "codemirror_mode": {
    "name": "ipython",
    "version": 3
   },
   "file_extension": ".py",
   "mimetype": "text/x-python",
   "name": "python",
   "nbconvert_exporter": "python",
   "pygments_lexer": "ipython3",
   "version": "3.8.5"
  }
 },
 "nbformat": 4,
 "nbformat_minor": 4
}
