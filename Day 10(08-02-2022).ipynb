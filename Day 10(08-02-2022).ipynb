{
 "cells": [
  {
   "cell_type": "code",
   "execution_count": 6,
   "metadata": {},
   "outputs": [
    {
     "name": "stdout",
     "output_type": "stream",
     "text": [
      "File is created\n"
     ]
    }
   ],
   "source": [
    "# Function to create a file and write to file\n",
    "def createfile(filename):\n",
    "    f = open(filename,'w')\n",
    "    for i in range(10):\n",
    "        f.write(\"hello World  \\n\" )\n",
    "    print(\"File is created\")\n",
    "createfile(\"text.txt\")"
   ]
  },
  {
   "cell_type": "code",
   "execution_count": 7,
   "metadata": {},
   "outputs": [
    {
     "name": "stdout",
     "output_type": "stream",
     "text": [
      "File is created\n"
     ]
    }
   ],
   "source": [
    "# Append\n",
    "def append(filename):\n",
    "    f = open(filename,\"a\")\n",
    "    for i in range(10):\n",
    "        f.write(\"This is line \\n\")\n",
    "    print(\"File is created\")\n",
    "append(\"text.txt\")"
   ]
  },
  {
   "cell_type": "code",
   "execution_count": 8,
   "metadata": {},
   "outputs": [
    {
     "name": "stdout",
     "output_type": "stream",
     "text": [
      "hello World  \n",
      "hello World  \n",
      "hello World  \n",
      "hello World  \n",
      "hello World  \n",
      "hello World  \n",
      "hello World  \n",
      "hello World  \n",
      "hello World  \n",
      "hello World  \n",
      "This is line \n",
      "This is line \n",
      "This is line \n",
      "This is line \n",
      "This is line \n",
      "This is line \n",
      "This is line \n",
      "This is line \n",
      "This is line \n",
      "This is line \n",
      "\n"
     ]
    }
   ],
   "source": [
    "# Read a file\n",
    "def readfile(filename):\n",
    "    with open(filename,'r') as f:\n",
    "        if f.mode =='r':\n",
    "            x = f.read()\n",
    "            print(x)\n",
    "readfile(\"text.txt\")"
   ]
  },
  {
   "cell_type": "code",
   "execution_count": 9,
   "metadata": {},
   "outputs": [
    {
     "name": "stdout",
     "output_type": "stream",
     "text": [
      "Welcome to File Handling\n",
      "this is 1st line\n",
      "this is 1st line\n",
      "this is 1st line\n",
      "this is 1st line\n",
      "this is 1st line\n",
      "this is 1st line\n",
      "\n"
     ]
    }
   ],
   "source": [
    "readfile('file.txt')"
   ]
  },
  {
   "cell_type": "code",
   "execution_count": 11,
   "metadata": {},
   "outputs": [
    {
     "data": {
      "text/plain": [
       "50"
      ]
     },
     "execution_count": 11,
     "metadata": {},
     "output_type": "execute_result"
    }
   ],
   "source": [
    "# Split() method\n",
    "# Word count from file\n",
    "def wordcount(filename):\n",
    "    with open(filename,'r') as f:\n",
    "        if f.mode== 'r':\n",
    "            x =f.read()\n",
    "            l = x.split()\n",
    "        return len(l)\n",
    "wordcount(\"text.txt\")"
   ]
  },
  {
   "cell_type": "code",
   "execution_count": 12,
   "metadata": {},
   "outputs": [
    {
     "data": {
      "text/plain": [
       "10"
      ]
     },
     "execution_count": 12,
     "metadata": {},
     "output_type": "execute_result"
    }
   ],
   "source": [
    "# Specific Word count\n",
    "def count(filename,word):\n",
    "    with open (filename,'r') as f:\n",
    "        if f.mode == 'r':\n",
    "            x = f.read()\n",
    "            l = x.split()\n",
    "        return l.count(word)\n",
    "count(\"text.txt\",\"line\")"
   ]
  },
  {
   "cell_type": "code",
   "execution_count": 16,
   "metadata": {},
   "outputs": [
    {
     "name": "stdout",
     "output_type": "stream",
     "text": [
      "35\n"
     ]
    }
   ],
   "source": [
    "s = \"python os easy programming language\"\n",
    "l = s.split('/n')\n",
    "print(len(s))"
   ]
  },
  {
   "cell_type": "code",
   "execution_count": 14,
   "metadata": {},
   "outputs": [
    {
     "data": {
      "text/plain": [
       "280"
      ]
     },
     "execution_count": 14,
     "metadata": {},
     "output_type": "execute_result"
    }
   ],
   "source": [
    "# Count characters\n",
    "def charcount(filename):\n",
    "    with open(filename,'r') as f:\n",
    "        if f.mode=='r':\n",
    "            x = f.read()\n",
    "            l = list(x)\n",
    "        return len(l)\n",
    "charcount(\"text.txt\")"
   ]
  },
  {
   "cell_type": "code",
   "execution_count": 18,
   "metadata": {},
   "outputs": [
    {
     "data": {
      "text/plain": [
       "22"
      ]
     },
     "execution_count": 18,
     "metadata": {},
     "output_type": "execute_result"
    }
   ],
   "source": [
    "# Count number of lines\n",
    "def countlines(filename):\n",
    "    with open(filename,\"r\") as f:\n",
    "        if f.mode == 'r':\n",
    "            s = f.read()\n",
    "            l = s.split('\\n')\n",
    "        return len(l)\n",
    "countlines(\"text.txt\")\n",
    "            "
   ]
  },
  {
   "cell_type": "code",
   "execution_count": null,
   "metadata": {},
   "outputs": [],
   "source": []
  }
 ],
 "metadata": {
  "kernelspec": {
   "display_name": "Python 3",
   "language": "python",
   "name": "python3"
  },
  "language_info": {
   "codemirror_mode": {
    "name": "ipython",
    "version": 3
   },
   "file_extension": ".py",
   "mimetype": "text/x-python",
   "name": "python",
   "nbconvert_exporter": "python",
   "pygments_lexer": "ipython3",
   "version": "3.8.5"
  }
 },
 "nbformat": 4,
 "nbformat_minor": 4
}
