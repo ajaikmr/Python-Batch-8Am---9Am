{
 "cells": [
  {
   "cell_type": "code",
   "execution_count": 1,
   "metadata": {},
   "outputs": [
    {
     "name": "stdout",
     "output_type": "stream",
     "text": [
      "1 2 2 3 "
     ]
    }
   ],
   "source": [
    "# Extract Digits from given string\n",
    "# input: 12ku23\n",
    "#output: 1 2 2 3\n",
    "def digits(str):\n",
    "    for i in range(len(str)):\n",
    "        if ord(str[i]) > 48 and ord(str[i]) <=58:\n",
    "            print(str[i],end = \" \")\n",
    "digits(\"12ku23\")"
   ]
  },
  {
   "cell_type": "code",
   "execution_count": 2,
   "metadata": {},
   "outputs": [
    {
     "name": "stdout",
     "output_type": "stream",
     "text": [
      "a\n"
     ]
    }
   ],
   "source": [
    "s1 =\"A\"\n",
    "s1 =chr(ord(s1)+32)\n",
    "print(s1)"
   ]
  },
  {
   "cell_type": "code",
   "execution_count": 4,
   "metadata": {},
   "outputs": [
    {
     "data": {
      "text/plain": [
       "' pYtHoN'"
      ]
     },
     "execution_count": 4,
     "metadata": {},
     "output_type": "execute_result"
    }
   ],
   "source": [
    "# input:PyThOn\n",
    "# output: pYtHoN\n",
    "def case(s):\n",
    "    s1 =\" \"\n",
    "    for i in range(len(s)):\n",
    "        if ord(s[i]) >=65 and ord(s[i]) <=90:\n",
    "            s1 += chr(ord(s[i])+32)\n",
    "        elif ord(s[i])>=97 and ord(s[i])<=122:\n",
    "            s1 += chr(ord(s[i])-32)\n",
    "    return s1\n",
    "case(\"PyThOn\")"
   ]
  },
  {
   "cell_type": "code",
   "execution_count": 5,
   "metadata": {},
   "outputs": [
    {
     "data": {
      "text/plain": [
       "10"
      ]
     },
     "execution_count": 5,
     "metadata": {},
     "output_type": "execute_result"
    }
   ],
   "source": [
    "# input: P1Y2T3O4\n",
    "# output: (1+2+3+4) =10\n",
    "def digits(s):\n",
    "    sum = 0\n",
    "    for i in range(len(s)):\n",
    "        if ord(s[i])>=48 and ord(s[i])<=58:\n",
    "            sum = sum+(ord(s[i])-48)\n",
    "    return sum\n",
    "digits(\"P1Y2T3O4\")"
   ]
  },
  {
   "cell_type": "code",
   "execution_count": 9,
   "metadata": {},
   "outputs": [
    {
     "data": {
      "text/plain": [
       "'EASY'"
      ]
     },
     "execution_count": 9,
     "metadata": {},
     "output_type": "execute_result"
    }
   ],
   "source": [
    "# input:\"Python easy Programming\"\n",
    "def word(s):\n",
    "    l = s.split()\n",
    "    x = l[1].upper()\n",
    "    return x\n",
    "word(\"Python easy Programming\")\n"
   ]
  },
  {
   "cell_type": "markdown",
   "metadata": {},
   "source": [
    "# Object Oriented Programming \n",
    "- python supports Different programming apprach \n",
    "- one of the popular appraoch to solve programs is creating a object\n",
    "- it is object oriented programming\n",
    "- object 2 charactertics\n",
    "   - ATTRIBUTES\n",
    "   - BEHAVIOUR\n",
    "- Parrot is an object\n",
    "   - name,age,color as attributes\n",
    "   - singing,dancing as behaviour"
   ]
  },
  {
   "cell_type": "code",
   "execution_count": 11,
   "metadata": {},
   "outputs": [],
   "source": [
    "# class: it is an extensible program code template for creatring a object\n",
    "# syntax\n",
    "class Parrot:\n",
    "    pass "
   ]
  },
  {
   "cell_type": "code",
   "execution_count": null,
   "metadata": {},
   "outputs": [],
   "source": [
    "# create a object\n",
    "obj = Parrot() #obj is an object of class Parrot\n"
   ]
  },
  {
   "cell_type": "code",
   "execution_count": 12,
   "metadata": {},
   "outputs": [
    {
     "name": "stdout",
     "output_type": "stream",
     "text": [
      "10\n"
     ]
    }
   ],
   "source": [
    "# createe a class\n",
    "class cls:\n",
    "    x = 10\n",
    "a = cls()\n",
    "print(a.x)"
   ]
  },
  {
   "cell_type": "code",
   "execution_count": 13,
   "metadata": {},
   "outputs": [
    {
     "name": "stdout",
     "output_type": "stream",
     "text": [
      "test method from cls class\n"
     ]
    }
   ],
   "source": [
    "#create a method \n",
    "class cls:\n",
    "    def test(self):# self parameter is used to access variables that belongs to class\n",
    "        print(\"test method from cls class\")\n",
    "obj = cls()\n",
    "obj.test()\n",
    "        "
   ]
  },
  {
   "cell_type": "code",
   "execution_count": 15,
   "metadata": {},
   "outputs": [
    {
     "name": "stdout",
     "output_type": "stream",
     "text": [
      "my name is : AJay\n"
     ]
    }
   ],
   "source": [
    "class cls1:\n",
    "    def test1(self,name):\n",
    "        print(\"my name is :\",name)\n",
    "obj1 = cls1()\n",
    "obj1.test1(\"AJay\")"
   ]
  },
  {
   "cell_type": "code",
   "execution_count": 16,
   "metadata": {},
   "outputs": [
    {
     "data": {
      "text/plain": [
       "6"
      ]
     },
     "execution_count": 16,
     "metadata": {},
     "output_type": "execute_result"
    }
   ],
   "source": [
    "class cls2:\n",
    "    def add(self,a,b,c):\n",
    "        return a+b+c\n",
    "obj = cls2()\n",
    "obj.add(1,2,3)"
   ]
  },
  {
   "cell_type": "code",
   "execution_count": null,
   "metadata": {},
   "outputs": [],
   "source": []
  }
 ],
 "metadata": {
  "kernelspec": {
   "display_name": "Python 3",
   "language": "python",
   "name": "python3"
  },
  "language_info": {
   "codemirror_mode": {
    "name": "ipython",
    "version": 3
   },
   "file_extension": ".py",
   "mimetype": "text/x-python",
   "name": "python",
   "nbconvert_exporter": "python",
   "pygments_lexer": "ipython3",
   "version": "3.8.5"
  }
 },
 "nbformat": 4,
 "nbformat_minor": 4
}
