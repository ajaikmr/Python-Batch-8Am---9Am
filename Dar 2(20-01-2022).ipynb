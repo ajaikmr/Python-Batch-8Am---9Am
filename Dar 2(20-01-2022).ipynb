{
 "cells": [
  {
   "cell_type": "markdown",
   "metadata": {},
   "source": [
    "# Data Type Comversions:\n",
    "- Integer - int()\n",
    "- flaot - flaot()\n",
    "- string - str()"
   ]
  },
  {
   "cell_type": "code",
   "execution_count": 3,
   "metadata": {},
   "outputs": [
    {
     "name": "stdout",
     "output_type": "stream",
     "text": [
      "4 <class 'int'>\n",
      "4 <class 'str'>\n",
      "4.0 <class 'float'>\n"
     ]
    }
   ],
   "source": [
    "# integer\n",
    "n = 4\n",
    "print(n,type(n))\n",
    "s = str(n)\n",
    "print(s,type(s))\n",
    "f = float(n)\n",
    "print(f,type(f))"
   ]
  },
  {
   "cell_type": "code",
   "execution_count": 6,
   "metadata": {},
   "outputs": [
    {
     "name": "stdout",
     "output_type": "stream",
     "text": [
      "1.2 <class 'float'>\n",
      "1 <class 'int'>\n",
      "1.2 <class 'str'>\n"
     ]
    }
   ],
   "source": [
    "# Flaot\n",
    "f = 1.2\n",
    "print(f,type(f))\n",
    "n = int(f)\n",
    "print(n,type(n))\n",
    "s = str(f)\n",
    "print(s,type(s))"
   ]
  },
  {
   "cell_type": "code",
   "execution_count": 11,
   "metadata": {},
   "outputs": [
    {
     "name": "stdout",
     "output_type": "stream",
     "text": [
      "123 <class 'str'>\n",
      "123 <class 'int'>\n",
      "123.0 <class 'float'>\n"
     ]
    }
   ],
   "source": [
    "# String\n",
    "s = \"123\"\n",
    "print(s,type(s))\n",
    "n = int(s)\n",
    "print(n,type(n))\n",
    "f = float(s)\n",
    "print(f,type(f))"
   ]
  },
  {
   "cell_type": "markdown",
   "metadata": {},
   "source": [
    "# Python Operators:\n",
    "- it is used to perform operations on varibales and values"
   ]
  },
  {
   "cell_type": "markdown",
   "metadata": {},
   "source": [
    "# Arithmetic Operatros:\n",
    "- used to perform mathrmatical operations\n",
    "- operator:\n",
    "     - **+**\n",
    "     - **-**\n",
    "     - **'*'**\n",
    "     - **/**\n",
    "     - **%**\n",
    "     - **'**'**\n",
    "     - **//**"
   ]
  },
  {
   "cell_type": "code",
   "execution_count": 12,
   "metadata": {},
   "outputs": [
    {
     "name": "stdout",
     "output_type": "stream",
     "text": [
      "12\n",
      "8\n",
      "20\n",
      "5.0\n",
      "0\n",
      "100\n",
      "5\n"
     ]
    }
   ],
   "source": [
    "x = 10\n",
    "y = 2\n",
    "print(x+y)\n",
    "print(x-y)\n",
    "print(x*y)\n",
    "print(x/y)\n",
    "print(x%y)\n",
    "print(x**y)\n",
    "print(x//y)"
   ]
  },
  {
   "cell_type": "markdown",
   "metadata": {},
   "source": [
    "# Assignment Operator:\n",
    "- used to assign values to variables.\n",
    "- Operator:\n",
    "      - **=**\n",
    "      - **+=**\n",
    "      - **-=**\n",
    "      - **'*='**\n",
    "      - **/=**\n",
    "      - **%=**\n",
    "      - **'**='**\n",
    "      - **//=**"
   ]
  },
  {
   "cell_type": "code",
   "execution_count": 21,
   "metadata": {},
   "outputs": [
    {
     "name": "stdout",
     "output_type": "stream",
     "text": [
      "11\n",
      "8\n",
      "16\n",
      "8.0\n",
      "2.0\n",
      "32.0\n",
      "8.0\n"
     ]
    }
   ],
   "source": [
    "x = 5\n",
    "x +=6 # x = x+6\n",
    "print(x)\n",
    "x -= 3\n",
    "print(x)\n",
    "x *= 2\n",
    "print(x)\n",
    "x /= 2\n",
    "print(x)\n",
    "x %= 3\n",
    "print(x)\n",
    "x **= 5\n",
    "print(x)\n",
    "x //=4\n",
    "print(x)"
   ]
  },
  {
   "cell_type": "markdown",
   "metadata": {},
   "source": [
    "# Comparision operators:\n",
    "- used to compare 2 values\n",
    "- operators:\n",
    "   - **==**\n",
    "   - **!=**\n",
    "   - **<**\n",
    "   - **>**\n",
    "   - **<=**\n",
    "   -  **>=**\n"
   ]
  },
  {
   "cell_type": "code",
   "execution_count": 22,
   "metadata": {},
   "outputs": [
    {
     "name": "stdout",
     "output_type": "stream",
     "text": [
      "False\n",
      "True\n",
      "False\n",
      "True\n",
      "False\n",
      "True\n"
     ]
    }
   ],
   "source": [
    "x = 5\n",
    "y = 4\n",
    "print(x ==y)\n",
    "print(x != y)\n",
    "print(x <y)\n",
    "print(x>y)\n",
    "print(x<= y)\n",
    "print(x >= y)"
   ]
  },
  {
   "cell_type": "markdown",
   "metadata": {},
   "source": [
    "# Logical Operators:\n",
    "- used to combine conditional statements.\n",
    "- operator:\n",
    "   - **and**\n",
    "   - **or**\n",
    "   - **not**"
   ]
  },
  {
   "cell_type": "code",
   "execution_count": 31,
   "metadata": {},
   "outputs": [
    {
     "name": "stdout",
     "output_type": "stream",
     "text": [
      "True\n",
      "True\n",
      "False\n"
     ]
    }
   ],
   "source": [
    "x = 6\n",
    "print(x < 9 and x > 5)\n",
    "print(x > 4 or x > 9)\n",
    "print(not(x < 9 and x > 5))"
   ]
  },
  {
   "cell_type": "markdown",
   "metadata": {},
   "source": [
    "# idetity Operator:\n",
    "- Used to compare objects.\n",
    "- operator:\n",
    "     - **is**\n",
    "     - **is not**"
   ]
  },
  {
   "cell_type": "code",
   "execution_count": 35,
   "metadata": {},
   "outputs": [
    {
     "name": "stdout",
     "output_type": "stream",
     "text": [
      "True\n",
      "False\n",
      "True\n"
     ]
    }
   ],
   "source": [
    "a = 5\n",
    "b = 5\n",
    "c = 7\n",
    "print(a is b)\n",
    "print(a is c)\n",
    "print(a is not c)"
   ]
  },
  {
   "cell_type": "markdown",
   "metadata": {},
   "source": [
    "# Membership operator:\n",
    "- used to test sequence is presented in object\n",
    "- operator:\n",
    "    - **in**\n",
    "    - **not in**"
   ]
  },
  {
   "cell_type": "code",
   "execution_count": 45,
   "metadata": {},
   "outputs": [
    {
     "name": "stdout",
     "output_type": "stream",
     "text": [
      "True\n",
      "True\n",
      "False\n",
      "True\n",
      "True\n"
     ]
    }
   ],
   "source": [
    "x = \" Python\"\n",
    "print(\"y\" in x)\n",
    "print(\"yt\" in x)\n",
    "print(\"P\" \"n\" in x)\n",
    "print(\"thon\" in x)\n",
    "print(\"Pn\"not in x)"
   ]
  },
  {
   "cell_type": "markdown",
   "metadata": {},
   "source": [
    "# Control Flow statements:\n",
    "- Condtional Statements\n",
    "   - if- else statement\n",
    "- looping statements\n",
    "   - while loop statment\n",
    "   - for loop statment"
   ]
  },
  {
   "cell_type": "markdown",
   "metadata": {},
   "source": [
    "# If - else Statement:\n",
    "# Syntax:\n",
    "\n"
   ]
  },
  {
   "cell_type": "code",
   "execution_count": null,
   "metadata": {},
   "outputs": [],
   "source": [
    "if boolean_condition:\n",
    "    statement\n",
    "elif:\n",
    "    statement\n",
    "else:\n",
    "    statement"
   ]
  },
  {
   "cell_type": "code",
   "execution_count": 50,
   "metadata": {},
   "outputs": [
    {
     "name": "stdout",
     "output_type": "stream",
     "text": [
      "Enter a number5\n",
      "Odd Number\n"
     ]
    }
   ],
   "source": [
    "# Check given number is Even or odd\n",
    "n = int(input(\"Enter a number\"))\n",
    "if n %2 ==0:\n",
    "    print(\"Even Number\")\n",
    "else:\n",
    "    print(\"Odd Number\")"
   ]
  },
  {
   "cell_type": "code",
   "execution_count": 53,
   "metadata": {},
   "outputs": [
    {
     "name": "stdout",
     "output_type": "stream",
     "text": [
      "Enter a number15\n",
      "yes\n"
     ]
    }
   ],
   "source": [
    "# check given number is multiples of both 3 and 5\n",
    "n = int(input(\"Enter a number\"))\n",
    "if n %3 ==0 and n%5==0:\n",
    "    print(\"yes\")\n",
    "else:\n",
    "    print(\"No\")\n",
    "    "
   ]
  },
  {
   "cell_type": "code",
   "execution_count": null,
   "metadata": {},
   "outputs": [],
   "source": []
  }
 ],
 "metadata": {
  "kernelspec": {
   "display_name": "Python 3",
   "language": "python",
   "name": "python3"
  },
  "language_info": {
   "codemirror_mode": {
    "name": "ipython",
    "version": 3
   },
   "file_extension": ".py",
   "mimetype": "text/x-python",
   "name": "python",
   "nbconvert_exporter": "python",
   "pygments_lexer": "ipython3",
   "version": "3.8.5"
  }
 },
 "nbformat": 4,
 "nbformat_minor": 4
}
