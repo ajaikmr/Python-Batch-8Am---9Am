{
 "cells": [
  {
   "cell_type": "markdown",
   "metadata": {},
   "source": [
    "# String Slicing:"
   ]
  },
  {
   "cell_type": "code",
   "execution_count": 1,
   "metadata": {},
   "outputs": [
    {
     "name": "stdout",
     "output_type": "stream",
     "text": [
      "Python Programming <class 'str'>\n"
     ]
    }
   ],
   "source": [
    "s = \"Python Programming\"\n",
    "print(s,type(s))"
   ]
  },
  {
   "cell_type": "code",
   "execution_count": 8,
   "metadata": {},
   "outputs": [
    {
     "name": "stdout",
     "output_type": "stream",
     "text": [
      "P\n",
      "y\n",
      "g\n",
      "Python Pr\n",
      "Python Programming\n"
     ]
    }
   ],
   "source": [
    "# Access String\n",
    "print(s[0])\n",
    "print(s[1])\n",
    "print(s[-1])\n",
    "print(s[0:9])\n",
    "print(s[0:])"
   ]
  },
  {
   "cell_type": "code",
   "execution_count": 10,
   "metadata": {},
   "outputs": [
    {
     "name": "stdout",
     "output_type": "stream",
     "text": [
      "ython Programmin\n",
      "thon Programmi\n"
     ]
    }
   ],
   "source": [
    "s = \"Python Programming\"\n",
    "# Print all chracters except 1st and last character\n",
    "print(s[1:-1])\n",
    "# print all characters except 1st 2 charcaters and last 2 characters\n",
    "print(s[2:-2])"
   ]
  },
  {
   "cell_type": "code",
   "execution_count": 16,
   "metadata": {},
   "outputs": [
    {
     "name": "stdout",
     "output_type": "stream",
     "text": [
      "PythonProgramming\n"
     ]
    }
   ],
   "source": [
    "s = \"Python Programming\"\n",
    "print(s.replace(\" \",\"\"))\n"
   ]
  },
  {
   "cell_type": "code",
   "execution_count": 18,
   "metadata": {},
   "outputs": [
    {
     "name": "stdout",
     "output_type": "stream",
     "text": [
      "gnimmargorP nohtyP\n",
      "gnimmargorP nohtyP\n"
     ]
    }
   ],
   "source": [
    "s = \"Python Programming\"\n",
    "print(s[::-1])\n",
    "print(s[-1::-1])"
   ]
  },
  {
   "cell_type": "markdown",
   "metadata": {},
   "source": [
    "# ASCIIL System\n",
    "- A-Z  --> 65-90\n",
    "- a-z  --> 97- 122\n",
    "- 0-9 --> 48-57\n",
    "- space --> 32\n"
   ]
  },
  {
   "cell_type": "code",
   "execution_count": 20,
   "metadata": {},
   "outputs": [
    {
     "name": "stdout",
     "output_type": "stream",
     "text": [
      "y 121 P 80\n"
     ]
    }
   ],
   "source": [
    "a = \"y\"\n",
    "a1 = \"P\"\n",
    "print(a,ord(a),a1,ord(a1))"
   ]
  },
  {
   "cell_type": "code",
   "execution_count": 21,
   "metadata": {},
   "outputs": [
    {
     "name": "stdout",
     "output_type": "stream",
     "text": [
      "A B C D E F G H I J K L M N O P Q R S T U V W X Y Z "
     ]
    }
   ],
   "source": [
    "# Print capital letters\n",
    "for i in range(65,91):\n",
    "    print(chr(i),end = \" \")"
   ]
  },
  {
   "cell_type": "code",
   "execution_count": null,
   "metadata": {},
   "outputs": [],
   "source": [
    "# Small letters\n",
    "# Numbers"
   ]
  },
  {
   "cell_type": "code",
   "execution_count": 22,
   "metadata": {},
   "outputs": [
    {
     "data": {
      "text/plain": [
       "True"
      ]
     },
     "execution_count": 22,
     "metadata": {},
     "output_type": "execute_result"
    }
   ],
   "source": [
    "# Find given string is palindrome \n",
    "# AHA  - TRUE\n",
    "# PYTHON - fLASE\n",
    "def palindrome(s):\n",
    "    if s ==s[::-1]:\n",
    "        return True\n",
    "    return False\n",
    "palindrome(\"AHA\")"
   ]
  },
  {
   "cell_type": "code",
   "execution_count": 23,
   "metadata": {},
   "outputs": [
    {
     "data": {
      "text/plain": [
       "False"
      ]
     },
     "execution_count": 23,
     "metadata": {},
     "output_type": "execute_result"
    }
   ],
   "source": [
    "palindrome(\"Python\")"
   ]
  },
  {
   "cell_type": "code",
   "execution_count": 24,
   "metadata": {},
   "outputs": [
    {
     "name": "stdout",
     "output_type": "stream",
     "text": [
      "P Y T H O N P R O G R A M M I N G "
     ]
    }
   ],
   "source": [
    "# Print upper case charcaters\n",
    "# input: Python Programming\n",
    "def upper(x):\n",
    "    for i in range(len(x)):\n",
    "        if ord(x[i]) >=65 and ord(x[i])<=90:\n",
    "            print(x[i],end =\" \")\n",
    "upper(\"PYTHON PROGRAMMING\")"
   ]
  },
  {
   "cell_type": "code",
   "execution_count": 26,
   "metadata": {},
   "outputs": [
    {
     "name": "stdout",
     "output_type": "stream",
     "text": [
      "F G G Y H K J G V H B K J "
     ]
    }
   ],
   "source": [
    "upper(\"FGGYkjhgvfgjHjvgKJGVHBKJ\")"
   ]
  },
  {
   "cell_type": "code",
   "execution_count": null,
   "metadata": {},
   "outputs": [],
   "source": [
    "# Extract Digits from given string\n",
    "# input: 12ku23\n",
    "#output: 1 2 2 3\n"
   ]
  },
  {
   "cell_type": "code",
   "execution_count": null,
   "metadata": {},
   "outputs": [],
   "source": [
    "# print lowercasr chaacters\n"
   ]
  }
 ],
 "metadata": {
  "kernelspec": {
   "display_name": "Python 3",
   "language": "python",
   "name": "python3"
  },
  "language_info": {
   "codemirror_mode": {
    "name": "ipython",
    "version": 3
   },
   "file_extension": ".py",
   "mimetype": "text/x-python",
   "name": "python",
   "nbconvert_exporter": "python",
   "pygments_lexer": "ipython3",
   "version": "3.8.5"
  }
 },
 "nbformat": 4,
 "nbformat_minor": 4
}
